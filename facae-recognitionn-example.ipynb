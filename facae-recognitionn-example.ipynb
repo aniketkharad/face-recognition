{
 "cells": [
  {
   "cell_type": "code",
   "execution_count": 7,
   "metadata": {},
   "outputs": [],
   "source": [
    "import face_recognition\n",
    "import os\n",
    "import cv2\n",
    "\n",
    "\n",
    "KNOWN_FACES_DIR = 'known_faces/'\n",
    "UNKNOWN_FACES_DIR = 'unknown_faces'\n",
    "TOLERANCE = 0.485\n",
    "FRAME_THICKNESS = 2\n",
    "FONT_THICKNESS = 1\n",
    "MODEL = 'hog'  # 'hog' or 'cnn'"
   ]
  },
  {
   "cell_type": "code",
   "execution_count": 2,
   "metadata": {},
   "outputs": [
    {
     "name": "stdout",
     "output_type": "stream",
     "text": [
      "Loading known faces...\n"
     ]
    }
   ],
   "source": [
    "print('Loading known faces...')\n",
    "known_faces = []\n",
    "known_names = []"
   ]
  },
  {
   "cell_type": "code",
   "execution_count": null,
   "metadata": {},
   "outputs": [],
   "source": [
    "for name in os.listdir(KNOWN_FACES_DIR):\n",
    "    for filename in os.listdir(f'{KNOWN_FACES_DIR}/{name}'):\n",
    "        image = face_recognition.load_image_file(f'{KNOWN_FACES_DIR}/{name}/{filename}')\n",
    "        encoding = face_recognition.face_encodings(image)[0]\n",
    "        known_faces.append(encoding)\n",
    "        known_names.append(name)"
   ]
  },
  {
   "cell_type": "code",
   "execution_count": 5,
   "metadata": {},
   "outputs": [],
   "source": [
    "def name_to_color(name):\n",
    "    color = [(ord(c.lower())-97)*8 for c in name[:3]]\n",
    "    return color"
   ]
  },
  {
   "cell_type": "code",
   "execution_count": 8,
   "metadata": {},
   "outputs": [
    {
     "name": "stdout",
     "output_type": "stream",
     "text": [
      "Processing unknown faces...\n",
      "Filename 5e6fd443c4854013fa548f54.jpg, found 3 face(s)\n",
      " - Donald Trump from [True, True, True, True, True, True, True, False, True, False, True, True, True, False, True, True, True, True, True, True, False, False]\n",
      "Filename 782633-modi-use.jpg, found 2 face(s)\n",
      " - Narendra Modi from [False, False, False, False, False, False, False, False, False, False, False, False, False, False, False, False, False, False, False, False, True, True]\n",
      "Filename Amit-Shah-and-Narendra-Modi-696x392.jpg, found 4 face(s)\n",
      " - Narendra Modi from [False, False, False, False, False, False, False, False, False, False, False, False, False, False, False, False, False, False, False, False, True, True]\n",
      "Filename awaw.jpg, found 2 face(s)\n",
      " - Narendra Modi from [False, False, False, False, False, False, False, False, False, False, False, False, False, False, False, False, False, False, False, False, True, False]\n",
      "Filename d.jpg, found 2 face(s)\n",
      " - Donald Trump from [False, True, False, False, False, False, False, False, False, False, True, False, False, False, False, False, False, True, True, False, False, False]\n",
      "Filename donald-trump-coronavirus-briefing-march-17-ss-jc-200318_hpMain_16x9_1600.jpg, found 2 face(s)\n",
      " - Donald Trump from [True, True, True, True, True, True, False, True, True, True, True, True, True, True, True, True, True, True, True, True, False, False]\n",
      "Filename download (2).jpg, found 1 face(s)\n",
      " - Donald Trump from [True, False, False, False, False, False, False, False, True, True, False, False, False, True, True, False, False, False, False, False, False, False]\n",
      "Filename download (4).jpg, found 2 face(s)\n",
      " - Donald Trump from [False, False, False, False, False, False, False, False, True, True, False, False, True, True, False, False, False, False, False, False, False, False]\n",
      "Filename download (6).jpg, found 2 face(s)\n",
      " - Donald Trump from [True, True, True, True, False, True, False, False, True, True, True, True, True, False, False, True, True, True, True, False, False, False]\n",
      "Filename es.jpg, found 2 face(s)\n",
      " - Narendra Modi from [False, False, False, False, False, False, False, False, False, False, False, False, False, False, False, False, False, False, False, False, True, False]\n",
      "Filename fajr.jpg, found 2 face(s)\n",
      " - Donald Trump from [True, True, True, True, True, False, False, False, False, False, True, True, False, False, False, True, False, False, False, False, False, False]\n",
      "Filename gallery_medium.jpg, found 3 face(s)\n",
      " - Donald Trump from [False, False, True, False, False, False, False, False, True, True, True, False, True, False, False, False, True, True, True, True, False, False]\n",
      " - Narendra Modi from [False, False, False, False, False, False, False, False, False, False, False, False, False, False, False, False, False, False, False, False, True, True]\n",
      "Filename Narendra-Modi-with-Sanjay-Dutt.jpg, found 2 face(s)\n",
      " - Narendra Modi from [False, False, False, False, False, False, False, False, False, False, False, False, False, False, False, False, False, False, False, False, True, True]\n",
      "Filename oiyu.jpg, found 2 face(s)\n",
      " - Donald Trump from [True, True, False, False, True, True, True, True, True, False, True, True, True, True, True, True, True, True, True, True, False, False]\n",
      "Filename original.jpg, found 1 face(s)\n",
      " - Donald Trump from [False, True, True, True, True, False, True, True, True, False, True, True, True, True, True, False, True, True, True, True, False, False]\n",
      "Filename r.jpg, found 3 face(s)\n",
      " - Narendra Modi from [False, False, False, False, False, False, False, False, False, False, False, False, False, False, False, False, False, False, False, False, True, True]\n",
      "Filename rfv.jpg, found 3 face(s)\n",
      " - Donald Trump from [True, True, True, True, True, True, True, True, True, True, True, True, True, True, True, True, True, True, True, True, False, False]\n",
      " - Narendra Modi from [False, False, False, False, False, False, False, False, False, False, False, False, False, False, False, False, False, False, False, False, True, True]\n",
      "Filename rre.jpg, found 0 face(s)\n",
      "Filename screen-shot-2019-08-06-at-5.03.16-pm.png, found 6 face(s)\n",
      " - Donald Trump from [True, True, True, True, False, True, False, False, True, True, False, False, False, False, False, False, True, True, True, True, False, False]\n",
      " - Donald Trump from [True, True, True, False, True, True, False, True, True, True, True, True, False, False, True, True, False, True, True, True, False, False]\n",
      "Filename se.jpg, found 2 face(s)\n",
      " - Narendra Modi from [False, False, False, False, False, False, False, False, False, False, False, False, False, False, False, False, False, False, False, False, True, False]\n",
      "Filename top_news_1558622327_725x725.jpg, found 1 face(s)\n",
      " - Narendra Modi from [False, False, False, False, False, False, False, False, False, False, False, False, False, False, False, False, False, False, False, False, True, False]\n",
      "Filename trump-74.jpg, found 1 face(s)\n",
      "Filename trump-master-31420.jpg, found 2 face(s)\n",
      " - Donald Trump from [False, False, False, True, False, False, False, False, False, False, True, False, False, False, False, True, False, False, False, True, False, False]\n",
      "Filename trump_and_modi_660_140220032259_220220100454.jpg, found 1 face(s)\n",
      " - Donald Trump from [False, True, False, True, True, False, False, False, False, True, True, False, True, True, True, False, False, False, False, False, False, False]\n"
     ]
    }
   ],
   "source": [
    "print('Processing unknown faces...')\n",
    "for filename in os.listdir(UNKNOWN_FACES_DIR):\n",
    "    print(f'Filename {filename}', end='')\n",
    "    image = face_recognition.load_image_file(f'{UNKNOWN_FACES_DIR}/{filename}')\n",
    "    locations = face_recognition.face_locations(image, model=MODEL)\n",
    "    encodings = face_recognition.face_encodings(image, locations)\n",
    "    image = cv2.cvtColor(image, cv2.COLOR_RGB2BGR)\n",
    "    print(f', found {len(encodings)} face(s)')\n",
    "    for face_encoding, face_location in zip(encodings, locations):\n",
    "        results = face_recognition.compare_faces(known_faces, face_encoding, TOLERANCE)\n",
    "        match = None\n",
    "        if True in results:\n",
    "            match = known_names[results.index(True)]\n",
    "            print(f' - {match} from {results}')\n",
    "            \n",
    "            top_left = (face_location[3], face_location[0])\n",
    "            bottom_right = (face_location[1], face_location[2])\n",
    "            color = name_to_color(match)\n",
    "            cv2.rectangle(image, top_left, bottom_right, color, FRAME_THICKNESS)\n",
    "            \n",
    "            top_left = (face_location[3], face_location[2])\n",
    "            bottom_right = (face_location[1], face_location[2] + 22)\n",
    "            cv2.rectangle(image, top_left, bottom_right, color, cv2.FILLED)\n",
    "            cv2.putText(image, match, (face_location[3] + 10, face_location[2] + 15), cv2.FONT_HERSHEY_SIMPLEX, 0.5, (200, 200, 200), FONT_THICKNESS)\n",
    "\n",
    "    cv2.imshow(filename, image)\n",
    "    cv2.waitKey(0)\n",
    "    cv2.destroyWindow(filename)"
   ]
  },
  {
   "cell_type": "code",
   "execution_count": null,
   "metadata": {},
   "outputs": [],
   "source": []
  }
 ],
 "metadata": {
  "kernelspec": {
   "display_name": "Python 3",
   "language": "python",
   "name": "python3"
  },
  "language_info": {
   "codemirror_mode": {
    "name": "ipython",
    "version": 3
   },
   "file_extension": ".py",
   "mimetype": "text/x-python",
   "name": "python",
   "nbconvert_exporter": "python",
   "pygments_lexer": "ipython3",
   "version": "3.7.4"
  }
 },
 "nbformat": 4,
 "nbformat_minor": 4
}
